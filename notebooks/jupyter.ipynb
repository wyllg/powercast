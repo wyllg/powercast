{
 "cells": [
  {
   "cell_type": "markdown",
   "id": "b26835be",
   "metadata": {},
   "source": [
    "# Test Data Display"
   ]
  },
  {
   "cell_type": "code",
   "execution_count": null,
   "id": "383af2d4",
   "metadata": {},
   "outputs": [],
   "source": [
    "import pandas as pd\n",
    "\n",
    "# Load the data\n",
    "df = pd.read_csv('../data/electricity.csv')\n",
    "\n",
    "print(df.head())"
   ]
  },
  {
   "cell_type": "markdown",
   "id": "aeb50686",
   "metadata": {},
   "source": [
    "# CSV Information"
   ]
  },
  {
   "cell_type": "code",
   "execution_count": 2,
   "id": "0486174f",
   "metadata": {},
   "outputs": [
    {
     "name": "stdout",
     "output_type": "stream",
     "text": [
      "<class 'pandas.core.frame.DataFrame'>\n",
      "RangeIndex: 273 entries, 0 to 272\n",
      "Data columns (total 8 columns):\n",
      " #   Column                                             Non-Null Count  Dtype  \n",
      "---  ------                                             --------------  -----  \n",
      " 0   Month                                              273 non-null    object \n",
      " 1   all fuels (utility-scale) thousand megawatthours   273 non-null    float64\n",
      " 2   coal thousand megawatthours                        273 non-null    float64\n",
      " 3   natural gas thousand megawatthours                 273 non-null    float64\n",
      " 4   nuclear thousand megawatthours                     273 non-null    float64\n",
      " 5   conventional hydroelectric thousand megawatthours  273 non-null    float64\n",
      " 6   wind thousand megawatthours                        273 non-null    float64\n",
      " 7   all solar thousand megawatthours                   117 non-null    float64\n",
      "dtypes: float64(7), object(1)\n",
      "memory usage: 17.2+ KB\n"
     ]
    }
   ],
   "source": [
    "import pandas as pd\n",
    "\n",
    "df = pd.read_csv(\"../data/electricity.csv\")\n",
    "df.info()"
   ]
  }
 ],
 "metadata": {
  "kernelspec": {
   "display_name": "Python 3",
   "language": "python",
   "name": "python3"
  },
  "language_info": {
   "codemirror_mode": {
    "name": "ipython",
    "version": 3
   },
   "file_extension": ".py",
   "mimetype": "text/x-python",
   "name": "python",
   "nbconvert_exporter": "python",
   "pygments_lexer": "ipython3",
   "version": "3.13.1"
  }
 },
 "nbformat": 4,
 "nbformat_minor": 5
}
